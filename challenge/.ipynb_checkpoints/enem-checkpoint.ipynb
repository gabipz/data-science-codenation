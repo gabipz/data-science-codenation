{
 "cells": [
  {
   "cell_type": "markdown",
   "metadata": {},
   "source": [
    "# Previsão das melhores notas de matemática do ENEM 2016"
   ]
  },
  {
   "cell_type": "markdown",
   "metadata": {},
   "source": [
    "## Importando as bibliotecas"
   ]
  },
  {
   "cell_type": "code",
   "execution_count": 9,
   "metadata": {},
   "outputs": [],
   "source": [
    "import pandas as pd\n",
    "import seaborn as sns\n"
   ]
  },
  {
   "cell_type": "markdown",
   "metadata": {},
   "source": [
    "## Leitura dos dados e visualização do conteúdo"
   ]
  },
  {
   "cell_type": "code",
   "execution_count": 3,
   "metadata": {},
   "outputs": [],
   "source": [
    "df = pd.read_csv('test.csv')"
   ]
  },
  {
   "cell_type": "code",
   "execution_count": 10,
   "metadata": {},
   "outputs": [
    {
     "data": {
      "text/html": [
       "<div>\n",
       "<style scoped>\n",
       "    .dataframe tbody tr th:only-of-type {\n",
       "        vertical-align: middle;\n",
       "    }\n",
       "\n",
       "    .dataframe tbody tr th {\n",
       "        vertical-align: top;\n",
       "    }\n",
       "\n",
       "    .dataframe thead th {\n",
       "        text-align: right;\n",
       "    }\n",
       "</style>\n",
       "<table border=\"1\" class=\"dataframe\">\n",
       "  <thead>\n",
       "    <tr style=\"text-align: right;\">\n",
       "      <th></th>\n",
       "      <th>NU_INSCRICAO</th>\n",
       "      <th>CO_UF_RESIDENCIA</th>\n",
       "      <th>SG_UF_RESIDENCIA</th>\n",
       "      <th>NU_IDADE</th>\n",
       "      <th>TP_SEXO</th>\n",
       "      <th>TP_COR_RACA</th>\n",
       "      <th>TP_NACIONALIDADE</th>\n",
       "      <th>TP_ST_CONCLUSAO</th>\n",
       "      <th>TP_ANO_CONCLUIU</th>\n",
       "      <th>TP_ESCOLA</th>\n",
       "      <th>...</th>\n",
       "      <th>NU_NOTA_COMP5</th>\n",
       "      <th>NU_NOTA_REDACAO</th>\n",
       "      <th>Q001</th>\n",
       "      <th>Q002</th>\n",
       "      <th>Q006</th>\n",
       "      <th>Q024</th>\n",
       "      <th>Q025</th>\n",
       "      <th>Q026</th>\n",
       "      <th>Q027</th>\n",
       "      <th>Q047</th>\n",
       "    </tr>\n",
       "  </thead>\n",
       "  <tbody>\n",
       "    <tr>\n",
       "      <td>0</td>\n",
       "      <td>73ff9fcc02f0a99919906c942c2e1a1042cdcf98</td>\n",
       "      <td>41</td>\n",
       "      <td>PR</td>\n",
       "      <td>22</td>\n",
       "      <td>F</td>\n",
       "      <td>3</td>\n",
       "      <td>1</td>\n",
       "      <td>1</td>\n",
       "      <td>5</td>\n",
       "      <td>1</td>\n",
       "      <td>...</td>\n",
       "      <td>40.0</td>\n",
       "      <td>420.0</td>\n",
       "      <td>B</td>\n",
       "      <td>A</td>\n",
       "      <td>C</td>\n",
       "      <td>A</td>\n",
       "      <td>A</td>\n",
       "      <td>C</td>\n",
       "      <td>C</td>\n",
       "      <td>A</td>\n",
       "    </tr>\n",
       "    <tr>\n",
       "      <td>1</td>\n",
       "      <td>71a95f9f1b91a82c65ad94abbdf9f54e6066f968</td>\n",
       "      <td>21</td>\n",
       "      <td>MA</td>\n",
       "      <td>26</td>\n",
       "      <td>F</td>\n",
       "      <td>3</td>\n",
       "      <td>1</td>\n",
       "      <td>1</td>\n",
       "      <td>8</td>\n",
       "      <td>1</td>\n",
       "      <td>...</td>\n",
       "      <td>100.0</td>\n",
       "      <td>580.0</td>\n",
       "      <td>E</td>\n",
       "      <td>B</td>\n",
       "      <td>C</td>\n",
       "      <td>B</td>\n",
       "      <td>B</td>\n",
       "      <td>B</td>\n",
       "      <td>F</td>\n",
       "      <td>A</td>\n",
       "    </tr>\n",
       "    <tr>\n",
       "      <td>2</td>\n",
       "      <td>b38a03232f43b11c9d0788abaf060f7366053b6d</td>\n",
       "      <td>23</td>\n",
       "      <td>CE</td>\n",
       "      <td>21</td>\n",
       "      <td>M</td>\n",
       "      <td>1</td>\n",
       "      <td>1</td>\n",
       "      <td>2</td>\n",
       "      <td>0</td>\n",
       "      <td>2</td>\n",
       "      <td>...</td>\n",
       "      <td>80.0</td>\n",
       "      <td>320.0</td>\n",
       "      <td>E</td>\n",
       "      <td>E</td>\n",
       "      <td>D</td>\n",
       "      <td>B</td>\n",
       "      <td>B</td>\n",
       "      <td>A</td>\n",
       "      <td>NaN</td>\n",
       "      <td>A</td>\n",
       "    </tr>\n",
       "    <tr>\n",
       "      <td>3</td>\n",
       "      <td>70b682d9a3636be23f6120fa9d6b164eb3c6002d</td>\n",
       "      <td>15</td>\n",
       "      <td>PA</td>\n",
       "      <td>27</td>\n",
       "      <td>F</td>\n",
       "      <td>3</td>\n",
       "      <td>1</td>\n",
       "      <td>1</td>\n",
       "      <td>8</td>\n",
       "      <td>1</td>\n",
       "      <td>...</td>\n",
       "      <td>NaN</td>\n",
       "      <td>NaN</td>\n",
       "      <td>H</td>\n",
       "      <td>E</td>\n",
       "      <td>G</td>\n",
       "      <td>B</td>\n",
       "      <td>B</td>\n",
       "      <td>A</td>\n",
       "      <td>NaN</td>\n",
       "      <td>A</td>\n",
       "    </tr>\n",
       "    <tr>\n",
       "      <td>4</td>\n",
       "      <td>715494628a50142ce8cb17191cfe6d0f3cae0934</td>\n",
       "      <td>41</td>\n",
       "      <td>PR</td>\n",
       "      <td>18</td>\n",
       "      <td>M</td>\n",
       "      <td>1</td>\n",
       "      <td>1</td>\n",
       "      <td>2</td>\n",
       "      <td>0</td>\n",
       "      <td>2</td>\n",
       "      <td>...</td>\n",
       "      <td>0.0</td>\n",
       "      <td>320.0</td>\n",
       "      <td>D</td>\n",
       "      <td>H</td>\n",
       "      <td>H</td>\n",
       "      <td>C</td>\n",
       "      <td>B</td>\n",
       "      <td>A</td>\n",
       "      <td>NaN</td>\n",
       "      <td>A</td>\n",
       "    </tr>\n",
       "  </tbody>\n",
       "</table>\n",
       "<p>5 rows × 47 columns</p>\n",
       "</div>"
      ],
      "text/plain": [
       "                               NU_INSCRICAO  CO_UF_RESIDENCIA  \\\n",
       "0  73ff9fcc02f0a99919906c942c2e1a1042cdcf98                41   \n",
       "1  71a95f9f1b91a82c65ad94abbdf9f54e6066f968                21   \n",
       "2  b38a03232f43b11c9d0788abaf060f7366053b6d                23   \n",
       "3  70b682d9a3636be23f6120fa9d6b164eb3c6002d                15   \n",
       "4  715494628a50142ce8cb17191cfe6d0f3cae0934                41   \n",
       "\n",
       "  SG_UF_RESIDENCIA  NU_IDADE TP_SEXO  TP_COR_RACA  TP_NACIONALIDADE  \\\n",
       "0               PR        22       F            3                 1   \n",
       "1               MA        26       F            3                 1   \n",
       "2               CE        21       M            1                 1   \n",
       "3               PA        27       F            3                 1   \n",
       "4               PR        18       M            1                 1   \n",
       "\n",
       "   TP_ST_CONCLUSAO  TP_ANO_CONCLUIU  TP_ESCOLA  ...  NU_NOTA_COMP5  \\\n",
       "0                1                5          1  ...           40.0   \n",
       "1                1                8          1  ...          100.0   \n",
       "2                2                0          2  ...           80.0   \n",
       "3                1                8          1  ...            NaN   \n",
       "4                2                0          2  ...            0.0   \n",
       "\n",
       "   NU_NOTA_REDACAO  Q001  Q002  Q006  Q024  Q025  Q026  Q027  Q047  \n",
       "0            420.0     B     A     C     A     A     C     C     A  \n",
       "1            580.0     E     B     C     B     B     B     F     A  \n",
       "2            320.0     E     E     D     B     B     A   NaN     A  \n",
       "3              NaN     H     E     G     B     B     A   NaN     A  \n",
       "4            320.0     D     H     H     C     B     A   NaN     A  \n",
       "\n",
       "[5 rows x 47 columns]"
      ]
     },
     "execution_count": 10,
     "metadata": {},
     "output_type": "execute_result"
    }
   ],
   "source": [
    "# vusualizando 5 entradas do dataframe\n",
    "df.head()"
   ]
  },
  {
   "cell_type": "code",
   "execution_count": 6,
   "metadata": {},
   "outputs": [
    {
     "data": {
      "text/plain": [
       "(4576, 47)"
      ]
     },
     "execution_count": 6,
     "metadata": {},
     "output_type": "execute_result"
    }
   ],
   "source": [
    "df.shape"
   ]
  },
  {
   "cell_type": "code",
   "execution_count": 8,
   "metadata": {},
   "outputs": [
    {
     "data": {
      "text/plain": [
       "['NU_INSCRICAO',\n",
       " 'CO_UF_RESIDENCIA',\n",
       " 'SG_UF_RESIDENCIA',\n",
       " 'NU_IDADE',\n",
       " 'TP_SEXO',\n",
       " 'TP_COR_RACA',\n",
       " 'TP_NACIONALIDADE',\n",
       " 'TP_ST_CONCLUSAO',\n",
       " 'TP_ANO_CONCLUIU',\n",
       " 'TP_ESCOLA',\n",
       " 'TP_ENSINO',\n",
       " 'IN_TREINEIRO',\n",
       " 'TP_DEPENDENCIA_ADM_ESC',\n",
       " 'IN_BAIXA_VISAO',\n",
       " 'IN_CEGUEIRA',\n",
       " 'IN_SURDEZ',\n",
       " 'IN_DISLEXIA',\n",
       " 'IN_DISCALCULIA',\n",
       " 'IN_SABATISTA',\n",
       " 'IN_GESTANTE',\n",
       " 'IN_IDOSO',\n",
       " 'TP_PRESENCA_CN',\n",
       " 'TP_PRESENCA_CH',\n",
       " 'TP_PRESENCA_LC',\n",
       " 'CO_PROVA_CN',\n",
       " 'CO_PROVA_CH',\n",
       " 'CO_PROVA_LC',\n",
       " 'CO_PROVA_MT',\n",
       " 'NU_NOTA_CN',\n",
       " 'NU_NOTA_CH',\n",
       " 'NU_NOTA_LC',\n",
       " 'TP_LINGUA',\n",
       " 'TP_STATUS_REDACAO',\n",
       " 'NU_NOTA_COMP1',\n",
       " 'NU_NOTA_COMP2',\n",
       " 'NU_NOTA_COMP3',\n",
       " 'NU_NOTA_COMP4',\n",
       " 'NU_NOTA_COMP5',\n",
       " 'NU_NOTA_REDACAO',\n",
       " 'Q001',\n",
       " 'Q002',\n",
       " 'Q006',\n",
       " 'Q024',\n",
       " 'Q025',\n",
       " 'Q026',\n",
       " 'Q027',\n",
       " 'Q047']"
      ]
     },
     "execution_count": 8,
     "metadata": {},
     "output_type": "execute_result"
    }
   ],
   "source": [
    "# Visualizaçando colunas\n",
    "list(df.columns)"
   ]
  },
  {
   "cell_type": "markdown",
   "metadata": {},
   "source": [
    "## Análise Exploratória"
   ]
  },
  {
   "cell_type": "markdown",
   "metadata": {},
   "source": [
    "Nem todas as variáveis são importantes para previsão das melhores notas de matemática"
   ]
  },
  {
   "cell_type": "code",
   "execution_count": 11,
   "metadata": {},
   "outputs": [
    {
     "data": {
      "text/plain": [
       "NU_INSCRICAO              False\n",
       "CO_UF_RESIDENCIA          False\n",
       "SG_UF_RESIDENCIA          False\n",
       "NU_IDADE                  False\n",
       "TP_SEXO                   False\n",
       "TP_COR_RACA               False\n",
       "TP_NACIONALIDADE          False\n",
       "TP_ST_CONCLUSAO           False\n",
       "TP_ANO_CONCLUIU           False\n",
       "TP_ESCOLA                 False\n",
       "TP_ENSINO                  True\n",
       "IN_TREINEIRO              False\n",
       "TP_DEPENDENCIA_ADM_ESC     True\n",
       "IN_BAIXA_VISAO            False\n",
       "IN_CEGUEIRA               False\n",
       "IN_SURDEZ                 False\n",
       "IN_DISLEXIA               False\n",
       "IN_DISCALCULIA            False\n",
       "IN_SABATISTA              False\n",
       "IN_GESTANTE               False\n",
       "IN_IDOSO                  False\n",
       "TP_PRESENCA_CN            False\n",
       "TP_PRESENCA_CH            False\n",
       "TP_PRESENCA_LC            False\n",
       "CO_PROVA_CN               False\n",
       "CO_PROVA_CH               False\n",
       "CO_PROVA_LC               False\n",
       "CO_PROVA_MT               False\n",
       "NU_NOTA_CN                 True\n",
       "NU_NOTA_CH                 True\n",
       "NU_NOTA_LC                 True\n",
       "TP_LINGUA                 False\n",
       "TP_STATUS_REDACAO          True\n",
       "NU_NOTA_COMP1              True\n",
       "NU_NOTA_COMP2              True\n",
       "NU_NOTA_COMP3              True\n",
       "NU_NOTA_COMP4              True\n",
       "NU_NOTA_COMP5              True\n",
       "NU_NOTA_REDACAO            True\n",
       "Q001                      False\n",
       "Q002                      False\n",
       "Q006                      False\n",
       "Q024                      False\n",
       "Q025                      False\n",
       "Q026                      False\n",
       "Q027                       True\n",
       "Q047                      False\n",
       "dtype: bool"
      ]
     },
     "execution_count": 11,
     "metadata": {},
     "output_type": "execute_result"
    }
   ],
   "source": [
    "#verificando se existem valores faltantes nos dados\n",
    "df.isna().any()"
   ]
  },
  {
   "cell_type": "code",
   "execution_count": 12,
   "metadata": {},
   "outputs": [
    {
     "data": {
      "text/plain": [
       "NU_INSCRICAO                 0\n",
       "CO_UF_RESIDENCIA             0\n",
       "SG_UF_RESIDENCIA             0\n",
       "NU_IDADE                     0\n",
       "TP_SEXO                      0\n",
       "TP_COR_RACA                  0\n",
       "TP_NACIONALIDADE             0\n",
       "TP_ST_CONCLUSAO              0\n",
       "TP_ANO_CONCLUIU              0\n",
       "TP_ESCOLA                    0\n",
       "TP_ENSINO                 3096\n",
       "IN_TREINEIRO                 0\n",
       "TP_DEPENDENCIA_ADM_ESC    3096\n",
       "IN_BAIXA_VISAO               0\n",
       "IN_CEGUEIRA                  0\n",
       "IN_SURDEZ                    0\n",
       "IN_DISLEXIA                  0\n",
       "IN_DISCALCULIA               0\n",
       "IN_SABATISTA                 0\n",
       "IN_GESTANTE                  0\n",
       "IN_IDOSO                     0\n",
       "TP_PRESENCA_CN               0\n",
       "TP_PRESENCA_CH               0\n",
       "TP_PRESENCA_LC               0\n",
       "CO_PROVA_CN                  0\n",
       "CO_PROVA_CH                  0\n",
       "CO_PROVA_LC                  0\n",
       "CO_PROVA_MT                  0\n",
       "NU_NOTA_CN                1134\n",
       "NU_NOTA_CH                1134\n",
       "NU_NOTA_LC                1199\n",
       "TP_LINGUA                    0\n",
       "TP_STATUS_REDACAO         1199\n",
       "NU_NOTA_COMP1             1199\n",
       "NU_NOTA_COMP2             1199\n",
       "NU_NOTA_COMP3             1199\n",
       "NU_NOTA_COMP4             1199\n",
       "NU_NOTA_COMP5             1199\n",
       "NU_NOTA_REDACAO           1199\n",
       "Q001                         0\n",
       "Q002                         0\n",
       "Q006                         0\n",
       "Q024                         0\n",
       "Q025                         0\n",
       "Q026                         0\n",
       "Q027                      2488\n",
       "Q047                         0\n",
       "dtype: int64"
      ]
     },
     "execution_count": 12,
     "metadata": {},
     "output_type": "execute_result"
    }
   ],
   "source": [
    "#verificando quantos desses valores faltantes são vazios\n",
    "df.isna().sum()"
   ]
  },
  {
   "cell_type": "code",
   "execution_count": 16,
   "metadata": {},
   "outputs": [],
   "source": [
    "# Removendo as linhas em que tem informações faltantes importantes para previsão\n",
    "# Como os valores faltantes se repetem para algumas variáveis (1134 e 1199), suponho que estejam na mesma linha, sendo assim:  \n",
    "df.dropna(axis=0, subset=['NU_NOTA_CN','NU_NOTA_LC'],inplace=True)"
   ]
  },
  {
   "cell_type": "code",
   "execution_count": 17,
   "metadata": {},
   "outputs": [
    {
     "data": {
      "text/plain": [
       "NU_INSCRICAO                 0\n",
       "CO_UF_RESIDENCIA             0\n",
       "SG_UF_RESIDENCIA             0\n",
       "NU_IDADE                     0\n",
       "TP_SEXO                      0\n",
       "TP_COR_RACA                  0\n",
       "TP_NACIONALIDADE             0\n",
       "TP_ST_CONCLUSAO              0\n",
       "TP_ANO_CONCLUIU              0\n",
       "TP_ESCOLA                    0\n",
       "TP_ENSINO                 2114\n",
       "IN_TREINEIRO                 0\n",
       "TP_DEPENDENCIA_ADM_ESC    2114\n",
       "IN_BAIXA_VISAO               0\n",
       "IN_CEGUEIRA                  0\n",
       "IN_SURDEZ                    0\n",
       "IN_DISLEXIA                  0\n",
       "IN_DISCALCULIA               0\n",
       "IN_SABATISTA                 0\n",
       "IN_GESTANTE                  0\n",
       "IN_IDOSO                     0\n",
       "TP_PRESENCA_CN               0\n",
       "TP_PRESENCA_CH               0\n",
       "TP_PRESENCA_LC               0\n",
       "CO_PROVA_CN                  0\n",
       "CO_PROVA_CH                  0\n",
       "CO_PROVA_LC                  0\n",
       "CO_PROVA_MT                  0\n",
       "NU_NOTA_CN                   0\n",
       "NU_NOTA_CH                   0\n",
       "NU_NOTA_LC                   0\n",
       "TP_LINGUA                    0\n",
       "TP_STATUS_REDACAO            0\n",
       "NU_NOTA_COMP1                0\n",
       "NU_NOTA_COMP2                0\n",
       "NU_NOTA_COMP3                0\n",
       "NU_NOTA_COMP4                0\n",
       "NU_NOTA_COMP5                0\n",
       "NU_NOTA_REDACAO              0\n",
       "Q001                         0\n",
       "Q002                         0\n",
       "Q006                         0\n",
       "Q024                         0\n",
       "Q025                         0\n",
       "Q026                         0\n",
       "Q027                      2056\n",
       "Q047                         0\n",
       "dtype: int64"
      ]
     },
     "execution_count": 17,
     "metadata": {},
     "output_type": "execute_result"
    }
   ],
   "source": [
    "# Verificando se foram removidas\n",
    "df.isna().sum()"
   ]
  },
  {
   "cell_type": "code",
   "execution_count": 18,
   "metadata": {},
   "outputs": [
    {
     "data": {
      "text/plain": [
       "0"
      ]
     },
     "execution_count": 18,
     "metadata": {},
     "output_type": "execute_result"
    }
   ],
   "source": [
    "#Verificando se há duplicatas\n",
    "df.duplicated().sum()"
   ]
  },
  {
   "cell_type": "code",
   "execution_count": 19,
   "metadata": {},
   "outputs": [
    {
     "data": {
      "text/plain": [
       "(3360, 47)"
      ]
     },
     "execution_count": 19,
     "metadata": {},
     "output_type": "execute_result"
    }
   ],
   "source": [
    "df.shape"
   ]
  },
  {
   "cell_type": "code",
   "execution_count": 26,
   "metadata": {},
   "outputs": [
    {
     "data": {
      "text/plain": [
       "count    3360.000000\n",
       "mean      473.500655\n",
       "std        70.678178\n",
       "min         0.000000\n",
       "25%       419.775000\n",
       "50%       458.450000\n",
       "75%       514.500000\n",
       "max       778.900000\n",
       "Name: NU_NOTA_CN, dtype: float64"
      ]
     },
     "execution_count": 26,
     "metadata": {},
     "output_type": "execute_result"
    }
   ],
   "source": [
    "#sumário estatistico descritivo para notas de Ciências Naturais\n",
    "df['NU_NOTA_CN'].describe()"
   ]
  },
  {
   "cell_type": "code",
   "execution_count": 25,
   "metadata": {},
   "outputs": [
    {
     "data": {
      "text/plain": [
       "<matplotlib.axes._subplots.AxesSubplot at 0x267715a3bc8>"
      ]
     },
     "execution_count": 25,
     "metadata": {},
     "output_type": "execute_result"
    },
    {
     "data": {
      "image/png": "[encoded data removed]",
      "text/plain": [
       "<Figure size 432x288 with 1 Axes>"
      ]
     },
     "metadata": {
      "needs_background": "light"
     },
     "output_type": "display_data"
    }
   ],
   "source": [
    "#histograma - Notas Ciências Naturais\n",
    "sns.distplot(df['NU_NOTA_CN'])"
   ]
  },
  {
   "cell_type": "code",
   "execution_count": 27,
   "metadata": {},
   "outputs": [
    {
     "data": {
      "text/plain": [
       "count    3360.000000\n",
       "mean      529.748720\n",
       "std        72.747219\n",
       "min       330.600000\n",
       "25%       480.000000\n",
       "50%       532.400000\n",
       "75%       579.800000\n",
       "max       773.600000\n",
       "Name: NU_NOTA_CH, dtype: float64"
      ]
     },
     "execution_count": 27,
     "metadata": {},
     "output_type": "execute_result"
    }
   ],
   "source": [
    "#Sumário estatistico descritivo para notas de Ciências Humanas\n",
    "df['NU_NOTA_CH'].describe()"
   ]
  },
  {
   "cell_type": "code",
   "execution_count": 28,
   "metadata": {},
   "outputs": [
    {
     "data": {
      "text/plain": [
       "<matplotlib.axes._subplots.AxesSubplot at 0x26771935388>"
      ]
     },
     "execution_count": 28,
     "metadata": {},
     "output_type": "execute_result"
    },
    {
     "data": {
      "image/png": "[encoded data removed]",
      "text/plain": [
       "<Figure size 432x288 with 1 Axes>"
      ]
     },
     "metadata": {
      "needs_background": "light"
     },
     "output_type": "display_data"
    }
   ],
   "source": [
    "#Histograma - Notas Ciências Humanas\n",
    "sns.distplot(df['NU_NOTA_CH'])"
   ]
  }
 ],
 "metadata": {
  "kernelspec": {
   "display_name": "Python 3",
   "language": "python",
   "name": "python3"
  },
  "language_info": {
   "codemirror_mode": {
    "name": "ipython",
    "version": 3
   },
   "file_extension": ".py",
   "mimetype": "text/x-python",
   "name": "python",
   "nbconvert_exporter": "python",
   "pygments_lexer": "ipython3",
   "version": "3.7.4"
  }
 },
 "nbformat": 4,
 "nbformat_minor": 2
}
